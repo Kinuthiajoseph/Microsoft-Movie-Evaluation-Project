{
 "cells": [
  {
   "attachments": {},
   "cell_type": "markdown",
   "metadata": {},
   "source": [
    "![example](images/director_shot.jpeg)"
   ]
  },
  {
   "attachments": {},
   "cell_type": "markdown",
   "metadata": {},
   "source": [
    "# Microsoft-Movie-Analysis\n",
    "\n",
    "**Authors:** Joseph Kinuthia\n",
    "***"
   ]
  },
  {
   "attachments": {},
   "cell_type": "markdown",
   "metadata": {},
   "source": [
    "## Overview\n",
    "\n",
    "A one-paragraph overview of the project, including the business problem, data, methods, results and recommendations."
   ]
  },
  {
   "attachments": {},
   "cell_type": "markdown",
   "metadata": {},
   "source": [
    "## Business Problem\n",
    "The business problem we are trying to solve is to help Microsoft, who wants to create a new movie studio, to identify the types of films that are currently performing well at the box office. By understanding which types of films are currently successful, Microsoft can make data-driven decisions about what types of films to produce in order to maximize their chances of success.\n",
    "\n",
    "To answer this question, we will be analyzing two datasets: \"movie_basics\" and \"movie_ratings\". From these datasets, we will try to answer questions such as:\n",
    "\n",
    "* What are the most popular movie genres?\n",
    "* Which movie genres have the highest average ratings?\n",
    "* What is the relationship between movie budget and revenue?\n",
    "* Which movie studios have produced the most successful films?\n",
    "***\n",
    " \n"
   ]
  },
  {
   "attachments": {},
   "cell_type": "markdown",
   "metadata": {},
   "source": [
    "## Data Understanding\n",
    "\n",
    "***\n",
    "For this project, we are using two datasets: \"movie_basics\" and \"movie_ratings\".\n",
    "***\n",
    "The \"movie_basics\" dataset was obtained from the IMDb database and contains information about movies such as title, year of release, genre, and production studio. \n",
    "***\n",
    "The \"movie_ratings\" dataset was also obtained from the IMDb database and contains information about the ratings and reviews of movies.\n",
    "***\n",
    "\"\"\"\n",
    "These datasets relate to our data analysis questions because they provide information about movie genres, \n",
    "production studios, and ratings, which are all important factors to consider when deciding what types of films to produce.\n",
    "Our target variable is the movie's revenue or box office gross, \n",
    "which is not available in these datasets but can be obtained from external sources such as the \"bom.movie_gross.csv\" dataset. \n",
    "We will use this dataset to merge with our \"movie_basics\" dataset and obtain revenue information for each movie.\n",
    "The properties of the variables we intend to use include categorical variables \n",
    "such as movie genres, production studios, and directors, and continuous variables such as movie ratings, budget, and revenue. \n",
    "We will need to clean and preprocess the data in order to extract the relevant information and transform it into a usable format for analysis.\n",
    "\"\"\"\n"
   ]
  },
  {
   "cell_type": "code",
   "execution_count": 3,
   "metadata": {},
   "outputs": [],
   "source": [
    "# Import standard packages\n",
    "import pandas as pd\n",
    "import numpy as np\n",
    "import matplotlib.pyplot as plt\n",
    "import seaborn as sns\n",
    "\n",
    "%matplotlib inline"
   ]
  },
  {
   "cell_type": "code",
   "execution_count": 4,
   "metadata": {},
   "outputs": [],
   "source": [
    "import sqlite3\n",
    "# Load data from SQLite database\n",
    "conn = sqlite3.connect('im.db')\n",
    "movie_basics = pd.read_sql_query('SELECT * FROM movie_basics', conn)\n",
    "movie_ratings = pd.read_sql_query('SELECT * FROM movie_ratings', conn)"
   ]
  },
  {
   "cell_type": "code",
   "execution_count": 5,
   "metadata": {},
   "outputs": [],
   "source": [
    "import pandas as pd\n",
    "\n",
    "# Load data from CSV file\n",
    "movie_gross = pd.read_csv('bom.movie_gross.csv')"
   ]
  },
  {
   "cell_type": "code",
   "execution_count": 6,
   "metadata": {},
   "outputs": [
    {
     "name": "stdout",
     "output_type": "stream",
     "text": [
      "<class 'pandas.core.frame.DataFrame'>\n",
      "RangeIndex: 73856 entries, 0 to 73855\n",
      "Data columns (total 3 columns):\n",
      " #   Column         Non-Null Count  Dtype  \n",
      "---  ------         --------------  -----  \n",
      " 0   movie_id       73856 non-null  object \n",
      " 1   averagerating  73856 non-null  float64\n",
      " 2   numvotes       73856 non-null  int64  \n",
      "dtypes: float64(1), int64(1), object(1)\n",
      "memory usage: 1.7+ MB\n",
      " \n",
      "<class 'pandas.core.frame.DataFrame'>\n",
      "RangeIndex: 146144 entries, 0 to 146143\n",
      "Data columns (total 6 columns):\n",
      " #   Column           Non-Null Count   Dtype  \n",
      "---  ------           --------------   -----  \n",
      " 0   movie_id         146144 non-null  object \n",
      " 1   primary_title    146144 non-null  object \n",
      " 2   original_title   146123 non-null  object \n",
      " 3   start_year       146144 non-null  int64  \n",
      " 4   runtime_minutes  114405 non-null  float64\n",
      " 5   genres           140736 non-null  object \n",
      "dtypes: float64(1), int64(1), object(4)\n",
      "memory usage: 6.7+ MB\n",
      " \n",
      "<class 'pandas.core.frame.DataFrame'>\n",
      "RangeIndex: 3387 entries, 0 to 3386\n",
      "Data columns (total 5 columns):\n",
      " #   Column          Non-Null Count  Dtype  \n",
      "---  ------          --------------  -----  \n",
      " 0   title           3387 non-null   object \n",
      " 1   studio          3382 non-null   object \n",
      " 2   domestic_gross  3359 non-null   float64\n",
      " 3   foreign_gross   2037 non-null   object \n",
      " 4   year            3387 non-null   int64  \n",
      "dtypes: float64(1), int64(1), object(3)\n",
      "memory usage: 132.4+ KB\n"
     ]
    }
   ],
   "source": [
    "#Lets display the basic info for the three generated dataframes for further evaluation\n",
    "movie_ratings.info()\n",
    "print(\" \")\n",
    "movie_basics.info()\n",
    "print(\" \")\n",
    "movie_gross.info()"
   ]
  },
  {
   "attachments": {},
   "cell_type": "markdown",
   "metadata": {},
   "source": [
    "## Data Preparation\n",
    "\n",
    "We dropped missing values and created a new merged dataframe. \n",
    "***\n",
    "Specifically, we first identified the missing values in each of the three dataframes and dropped them using the dropna() method. \n",
    "We then merged the movie_basics_ratings and movie_gross dataframes on the movie_id column using the merge() method.\n",
    "***\n",
    "Regarding the missing values, we chose to drop them because they were relatively small compared to the size of the entire dataset. \n",
    "Dropping them would not significantly affect the overall analysis results. \n",
    "However, we did take care to check the number of missing values in each column and made sure that the number of missing values in each column was not excessively large.\n",
    "***\n",
    "Merging the movie_basics_ratings and movie_gross dataframes was appropriate given the business problem as it allowed us to combine information from multiple sources to better understand the performance of movies. The merged dataframe contains information on the basic attributes of movies (such as title, genre, and release year) as well as ratings information and box office revenue. By combining these different sources of information, we can perform more comprehensive analyses and gain more insights into what drives the success of movies.\n"
   ]
  },
  {
   "cell_type": "code",
   "execution_count": 7,
   "metadata": {},
   "outputs": [
    {
     "name": "stdout",
     "output_type": "stream",
     "text": [
      "Movie Basics: (146144, 6)\n",
      "Movie Ratings: (73856, 3)\n",
      "Movie Gross: (3387, 5)\n"
     ]
    }
   ],
   "source": [
    "# Here you run your code to clean the data\n",
    "# Check dimensions of datasets\n",
    "print('Movie Basics:', movie_basics.shape)\n",
    "print('Movie Ratings:', movie_ratings.shape)\n",
    "print('Movie Gross:', movie_gross.shape)"
   ]
  },
  {
   "cell_type": "code",
   "execution_count": 8,
   "metadata": {},
   "outputs": [
    {
     "name": "stdout",
     "output_type": "stream",
     "text": [
      "Movie Basics Columns: Index(['movie_id', 'primary_title', 'original_title', 'start_year',\n",
      "       'runtime_minutes', 'genres'],\n",
      "      dtype='object')\n",
      "Movie Ratings Columns: Index(['movie_id', 'averagerating', 'numvotes'], dtype='object')\n",
      "Movie Gross Columns: Index(['title', 'studio', 'domestic_gross', 'foreign_gross', 'year'], dtype='object')\n"
     ]
    }
   ],
   "source": [
    "# Check column names of datasets\n",
    "print('Movie Basics Columns:', movie_basics.columns)\n",
    "print('Movie Ratings Columns:', movie_ratings.columns)\n",
    "print('Movie Gross Columns:', movie_gross.columns)"
   ]
  },
  {
   "cell_type": "code",
   "execution_count": 9,
   "metadata": {},
   "outputs": [
    {
     "name": "stdout",
     "output_type": "stream",
     "text": [
      "Movie Basics Data Types: movie_id            object\n",
      "primary_title       object\n",
      "original_title      object\n",
      "start_year           int64\n",
      "runtime_minutes    float64\n",
      "genres              object\n",
      "dtype: object\n",
      "Movie Ratings Data Types: movie_id          object\n",
      "averagerating    float64\n",
      "numvotes           int64\n",
      "dtype: object\n",
      "Movie Gross Data Types: title              object\n",
      "studio             object\n",
      "domestic_gross    float64\n",
      "foreign_gross      object\n",
      "year                int64\n",
      "dtype: object\n"
     ]
    }
   ],
   "source": [
    "# Check data types of datasets\n",
    "print('Movie Basics Data Types:', movie_basics.dtypes)\n",
    "print('Movie Ratings Data Types:', movie_ratings.dtypes)\n",
    "print('Movie Gross Data Types:', movie_gross.dtypes)"
   ]
  },
  {
   "cell_type": "code",
   "execution_count": 10,
   "metadata": {},
   "outputs": [
    {
     "name": "stdout",
     "output_type": "stream",
     "text": [
      "Movie Basics Missing Values: movie_id               0\n",
      "primary_title          0\n",
      "original_title        21\n",
      "start_year             0\n",
      "runtime_minutes    31739\n",
      "genres              5408\n",
      "dtype: int64\n",
      "Movie Ratings Missing Values: movie_id         0\n",
      "averagerating    0\n",
      "numvotes         0\n",
      "dtype: int64\n",
      "Movie Gross Missing Values: title                0\n",
      "studio               5\n",
      "domestic_gross      28\n",
      "foreign_gross     1350\n",
      "year                 0\n",
      "dtype: int64\n"
     ]
    }
   ],
   "source": [
    "print('Movie Basics Missing Values:', movie_basics.isnull().sum())\n",
    "print('Movie Ratings Missing Values:', movie_ratings.isnull().sum())\n",
    "print('Movie Gross Missing Values:', movie_gross.isnull().sum())"
   ]
  },
  {
   "cell_type": "code",
   "execution_count": 11,
   "metadata": {},
   "outputs": [],
   "source": [
    "# Drop missing values from Movie Basics and Movie Gross tables\n",
    "movie_basics = movie_basics.dropna()\n",
    "movie_gross = movie_gross.dropna()"
   ]
  },
  {
   "cell_type": "code",
   "execution_count": 12,
   "metadata": {},
   "outputs": [],
   "source": [
    "# Merge the three tables on movie_id column\n",
    "df = movie_basics.merge(movie_ratings, on='movie_id').merge(movie_gross, left_on='primary_title', right_on='title')\n",
    "\n",
    "# Drop duplicate columns\n",
    "df = df.drop(columns=['original_title', 'title'])\n"
   ]
  },
  {
   "cell_type": "code",
   "execution_count": 13,
   "metadata": {},
   "outputs": [
    {
     "data": {
      "text/html": [
       "<div>\n",
       "<style scoped>\n",
       "    .dataframe tbody tr th:only-of-type {\n",
       "        vertical-align: middle;\n",
       "    }\n",
       "\n",
       "    .dataframe tbody tr th {\n",
       "        vertical-align: top;\n",
       "    }\n",
       "\n",
       "    .dataframe thead th {\n",
       "        text-align: right;\n",
       "    }\n",
       "</style>\n",
       "<table border=\"1\" class=\"dataframe\">\n",
       "  <thead>\n",
       "    <tr style=\"text-align: right;\">\n",
       "      <th></th>\n",
       "      <th>movie_id</th>\n",
       "      <th>primary_title</th>\n",
       "      <th>start_year</th>\n",
       "      <th>runtime_minutes</th>\n",
       "      <th>genres</th>\n",
       "      <th>averagerating</th>\n",
       "      <th>numvotes</th>\n",
       "      <th>studio</th>\n",
       "      <th>domestic_gross</th>\n",
       "      <th>foreign_gross</th>\n",
       "      <th>year</th>\n",
       "    </tr>\n",
       "  </thead>\n",
       "  <tbody>\n",
       "    <tr>\n",
       "      <th>0</th>\n",
       "      <td>tt0337692</td>\n",
       "      <td>On the Road</td>\n",
       "      <td>2012</td>\n",
       "      <td>124.0</td>\n",
       "      <td>Adventure,Drama,Romance</td>\n",
       "      <td>6.1</td>\n",
       "      <td>37886</td>\n",
       "      <td>IFC</td>\n",
       "      <td>744000.0</td>\n",
       "      <td>8000000</td>\n",
       "      <td>2012</td>\n",
       "    </tr>\n",
       "    <tr>\n",
       "      <th>1</th>\n",
       "      <td>tt4339118</td>\n",
       "      <td>On the Road</td>\n",
       "      <td>2014</td>\n",
       "      <td>89.0</td>\n",
       "      <td>Drama</td>\n",
       "      <td>6.0</td>\n",
       "      <td>6</td>\n",
       "      <td>IFC</td>\n",
       "      <td>744000.0</td>\n",
       "      <td>8000000</td>\n",
       "      <td>2012</td>\n",
       "    </tr>\n",
       "    <tr>\n",
       "      <th>2</th>\n",
       "      <td>tt5647250</td>\n",
       "      <td>On the Road</td>\n",
       "      <td>2016</td>\n",
       "      <td>121.0</td>\n",
       "      <td>Drama</td>\n",
       "      <td>5.7</td>\n",
       "      <td>127</td>\n",
       "      <td>IFC</td>\n",
       "      <td>744000.0</td>\n",
       "      <td>8000000</td>\n",
       "      <td>2012</td>\n",
       "    </tr>\n",
       "    <tr>\n",
       "      <th>3</th>\n",
       "      <td>tt0359950</td>\n",
       "      <td>The Secret Life of Walter Mitty</td>\n",
       "      <td>2013</td>\n",
       "      <td>114.0</td>\n",
       "      <td>Adventure,Comedy,Drama</td>\n",
       "      <td>7.3</td>\n",
       "      <td>275300</td>\n",
       "      <td>Fox</td>\n",
       "      <td>58200000.0</td>\n",
       "      <td>129900000</td>\n",
       "      <td>2013</td>\n",
       "    </tr>\n",
       "    <tr>\n",
       "      <th>4</th>\n",
       "      <td>tt0365907</td>\n",
       "      <td>A Walk Among the Tombstones</td>\n",
       "      <td>2014</td>\n",
       "      <td>114.0</td>\n",
       "      <td>Action,Crime,Drama</td>\n",
       "      <td>6.5</td>\n",
       "      <td>105116</td>\n",
       "      <td>Uni.</td>\n",
       "      <td>26300000.0</td>\n",
       "      <td>26900000</td>\n",
       "      <td>2014</td>\n",
       "    </tr>\n",
       "    <tr>\n",
       "      <th>...</th>\n",
       "      <td>...</td>\n",
       "      <td>...</td>\n",
       "      <td>...</td>\n",
       "      <td>...</td>\n",
       "      <td>...</td>\n",
       "      <td>...</td>\n",
       "      <td>...</td>\n",
       "      <td>...</td>\n",
       "      <td>...</td>\n",
       "      <td>...</td>\n",
       "      <td>...</td>\n",
       "    </tr>\n",
       "    <tr>\n",
       "      <th>1762</th>\n",
       "      <td>tt7752454</td>\n",
       "      <td>Detective Chinatown 2</td>\n",
       "      <td>2018</td>\n",
       "      <td>121.0</td>\n",
       "      <td>Action,Comedy,Mystery</td>\n",
       "      <td>6.1</td>\n",
       "      <td>1250</td>\n",
       "      <td>WB</td>\n",
       "      <td>2000000.0</td>\n",
       "      <td>542100000</td>\n",
       "      <td>2018</td>\n",
       "    </tr>\n",
       "    <tr>\n",
       "      <th>1763</th>\n",
       "      <td>tt7784604</td>\n",
       "      <td>Hereditary</td>\n",
       "      <td>2018</td>\n",
       "      <td>127.0</td>\n",
       "      <td>Drama,Horror,Mystery</td>\n",
       "      <td>7.3</td>\n",
       "      <td>151571</td>\n",
       "      <td>A24</td>\n",
       "      <td>44100000.0</td>\n",
       "      <td>35300000</td>\n",
       "      <td>2018</td>\n",
       "    </tr>\n",
       "    <tr>\n",
       "      <th>1764</th>\n",
       "      <td>tt8097306</td>\n",
       "      <td>Nobody's Fool</td>\n",
       "      <td>2018</td>\n",
       "      <td>110.0</td>\n",
       "      <td>Comedy,Drama,Romance</td>\n",
       "      <td>4.6</td>\n",
       "      <td>3618</td>\n",
       "      <td>Par.</td>\n",
       "      <td>31700000.0</td>\n",
       "      <td>1800000</td>\n",
       "      <td>2018</td>\n",
       "    </tr>\n",
       "    <tr>\n",
       "      <th>1765</th>\n",
       "      <td>tt8404272</td>\n",
       "      <td>How Long Will I Love U</td>\n",
       "      <td>2018</td>\n",
       "      <td>101.0</td>\n",
       "      <td>Romance</td>\n",
       "      <td>6.5</td>\n",
       "      <td>607</td>\n",
       "      <td>WGUSA</td>\n",
       "      <td>747000.0</td>\n",
       "      <td>82100000</td>\n",
       "      <td>2018</td>\n",
       "    </tr>\n",
       "    <tr>\n",
       "      <th>1766</th>\n",
       "      <td>tt9151704</td>\n",
       "      <td>Burn the Stage: The Movie</td>\n",
       "      <td>2018</td>\n",
       "      <td>84.0</td>\n",
       "      <td>Documentary,Music</td>\n",
       "      <td>8.8</td>\n",
       "      <td>2067</td>\n",
       "      <td>Trafalgar</td>\n",
       "      <td>4200000.0</td>\n",
       "      <td>16100000</td>\n",
       "      <td>2018</td>\n",
       "    </tr>\n",
       "  </tbody>\n",
       "</table>\n",
       "<p>1767 rows × 11 columns</p>\n",
       "</div>"
      ],
      "text/plain": [
       "       movie_id                    primary_title  start_year  runtime_minutes  \\\n",
       "0     tt0337692                      On the Road        2012            124.0   \n",
       "1     tt4339118                      On the Road        2014             89.0   \n",
       "2     tt5647250                      On the Road        2016            121.0   \n",
       "3     tt0359950  The Secret Life of Walter Mitty        2013            114.0   \n",
       "4     tt0365907      A Walk Among the Tombstones        2014            114.0   \n",
       "...         ...                              ...         ...              ...   \n",
       "1762  tt7752454            Detective Chinatown 2        2018            121.0   \n",
       "1763  tt7784604                       Hereditary        2018            127.0   \n",
       "1764  tt8097306                    Nobody's Fool        2018            110.0   \n",
       "1765  tt8404272           How Long Will I Love U        2018            101.0   \n",
       "1766  tt9151704        Burn the Stage: The Movie        2018             84.0   \n",
       "\n",
       "                       genres  averagerating  numvotes     studio  \\\n",
       "0     Adventure,Drama,Romance            6.1     37886        IFC   \n",
       "1                       Drama            6.0         6        IFC   \n",
       "2                       Drama            5.7       127        IFC   \n",
       "3      Adventure,Comedy,Drama            7.3    275300        Fox   \n",
       "4          Action,Crime,Drama            6.5    105116       Uni.   \n",
       "...                       ...            ...       ...        ...   \n",
       "1762    Action,Comedy,Mystery            6.1      1250         WB   \n",
       "1763     Drama,Horror,Mystery            7.3    151571        A24   \n",
       "1764     Comedy,Drama,Romance            4.6      3618       Par.   \n",
       "1765                  Romance            6.5       607      WGUSA   \n",
       "1766        Documentary,Music            8.8      2067  Trafalgar   \n",
       "\n",
       "      domestic_gross foreign_gross  year  \n",
       "0           744000.0       8000000  2012  \n",
       "1           744000.0       8000000  2012  \n",
       "2           744000.0       8000000  2012  \n",
       "3         58200000.0     129900000  2013  \n",
       "4         26300000.0      26900000  2014  \n",
       "...              ...           ...   ...  \n",
       "1762       2000000.0     542100000  2018  \n",
       "1763      44100000.0      35300000  2018  \n",
       "1764      31700000.0       1800000  2018  \n",
       "1765        747000.0      82100000  2018  \n",
       "1766       4200000.0      16100000  2018  \n",
       "\n",
       "[1767 rows x 11 columns]"
      ]
     },
     "execution_count": 13,
     "metadata": {},
     "output_type": "execute_result"
    }
   ],
   "source": [
    "df"
   ]
  },
  {
   "attachments": {},
   "cell_type": "markdown",
   "metadata": {},
   "source": [
    "## Data Modeling\n",
    "\n",
    "***\n",
    "The data was analyzed and modeled using pandas data manipulation and visualization tools in Python. \n",
    "***\n",
    "The process began with loading and cleaning the data, including dropping missing values and merging relevant tables.\n",
    "***\n",
    "To gain insights into trends and relationships between variables:\n",
    "    Data was then visualized using a scatter plot, bar chart, stacked bar chart, histogram, and pie chart. \n",
    "***\n",
    "These choices were appropriate given the data and business problem as they allowed for the exploration of relationships and trends in the data and provided insights that could be useful for the business."
   ]
  },
  {
   "cell_type": "code",
   "execution_count": 25,
   "metadata": {},
   "outputs": [
    {
     "data": {
      "image/png": "[encoded data removed]",
      "text/plain": [
       "<Figure size 720x432 with 1 Axes>"
      ]
     },
     "metadata": {
      "needs_background": "light"
     },
     "output_type": "display_data"
    }
   ],
   "source": [
    "\n",
    "\n",
    "# Extract the average ratings and domestic gross revenue from the DataFrame\n",
    "average_ratings = df['averagerating']\n",
    "domestic_gross = df['domestic_gross']\n",
    "\n",
    "# Create a scatter plot of average rating vs domestic gross revenue\n",
    "plt.figure(figsize=(10, 6))\n",
    "plt.scatter(domestic_gross, average_ratings, alpha=0.5)\n",
    "plt.xlabel('Domestic Gross Revenue')\n",
    "plt.ylabel('Average Rating')\n",
    "plt.title('Scatter Plot of Average Rating vs Domestic Gross Revenue')\n",
    "plt.tight_layout()\n",
    "plt.show()\n"
   ]
  },
  {
   "cell_type": "code",
   "execution_count": 21,
   "metadata": {},
   "outputs": [
    {
     "data": {
      "image/png": "[encoded data removed]",
      "text/plain": [
       "<Figure size 864x432 with 1 Axes>"
      ]
     },
     "metadata": {
      "needs_background": "light"
     },
     "output_type": "display_data"
    }
   ],
   "source": [
    "\n",
    "#Bar chart of number of movies released per year: \n",
    "#This will help understand the trend of movie releases over the years.\n",
    "\n",
    "# Create a new dataframe with the count of movies released per year\n",
    "movies_per_year = df.groupby('year')['movie_id'].count().reset_index()\n",
    "movies_per_year.columns = ['year', 'count']\n",
    "\n",
    "# Create a bar chart of the number of movies released per year\n",
    "plt.figure(figsize=(12,6))\n",
    "plt.bar(movies_per_year['year'], movies_per_year['count'])\n",
    "plt.xlabel('Year')\n",
    "plt.ylabel('Number of movies released')\n",
    "plt.title('Number of movies released per year')\n",
    "plt.show()\n"
   ]
  },
  {
   "cell_type": "code",
   "execution_count": 30,
   "metadata": {},
   "outputs": [
    {
     "data": {
      "text/plain": [
       "<Figure size 720x432 with 0 Axes>"
      ]
     },
     "metadata": {},
     "output_type": "display_data"
    },
    {
     "data": {
      "image/png": "[encoded data removed]",
      "text/plain": [
       "<Figure size 432x288 with 1 Axes>"
      ]
     },
     "metadata": {
      "needs_background": "light"
     },
     "output_type": "display_data"
    }
   ],
   "source": [
    "#Stacked bar chart of domestic and foreign gross revenue per year: \n",
    "#This will help understand the revenue trends over the years and \n",
    "#the contribution of domestic and foreign revenue.\n",
    "\n",
    "# Group the data by year and sum the domestic and foreign gross revenue\n",
    "yearly_revenue = df.groupby('year')[['domestic_gross', 'foreign_gross']].sum()\n",
    "plt.figure(figsize=(10, 6))\n",
    "# Create a stacked bar chart\n",
    "yearly_revenue.plot(kind='bar', stacked=True)\n",
    "\n",
    "# Set the title and axis labels\n",
    "plt.title('Domestic and Foreign Gross Revenue Per Year')\n",
    "plt.xlabel('Year')\n",
    "plt.ylabel('Gross Revenue (billions)')\n",
    "\n",
    "# Show the plot\n",
    "plt.show()\n"
   ]
  },
  {
   "cell_type": "code",
   "execution_count": 27,
   "metadata": {},
   "outputs": [
    {
     "data": {
      "image/png": "[encoded data removed]",
      "text/plain": [
       "<Figure size 720x432 with 1 Axes>"
      ]
     },
     "metadata": {
      "needs_background": "light"
     },
     "output_type": "display_data"
    }
   ],
   "source": [
    "#Histogram of runtime minutes: \n",
    "#This will help understand the distribution of runtime minutes of movies.\n",
    "plt.figure(figsize=(10, 6))\n",
    "plt.hist(df['runtime_minutes'], bins=20, color='purple')\n",
    "plt.title('Distribution of Runtime Minutes')\n",
    "plt.xlabel('Runtime Minutes')\n",
    "plt.ylabel('Count')\n",
    "plt.show()"
   ]
  },
  {
   "cell_type": "code",
   "execution_count": 26,
   "metadata": {},
   "outputs": [
    {
     "data": {
      "image/png": "[encoded data removed]",
      "text/plain": [
       "<Figure size 720x432 with 1 Axes>"
      ]
     },
     "metadata": {
      "needs_background": "light"
     },
     "output_type": "display_data"
    }
   ],
   "source": [
    "\n",
    "# Count the frequency of each genre\n",
    "genre_counts = df['genres'].str.split(',', expand=True).stack().value_counts()\n",
    "\n",
    "# Create a bar plot of genre distribution\n",
    "plt.figure(figsize=(10, 6))\n",
    "genre_counts.plot(kind='bar')\n",
    "plt.xlabel('Genres')\n",
    "plt.ylabel('Frequency')\n",
    "plt.title('Distribution of Movies Across Genres')\n",
    "plt.xticks(rotation=45)\n",
    "plt.tight_layout()\n",
    "plt.show()\n"
   ]
  },
  {
   "attachments": {},
   "cell_type": "markdown",
   "metadata": {},
   "source": [
    "## Evaluation\n",
    "***\n",
    "The scatter plot shows a weak positive correlation between the average rating and domestic gross revenue of movies. There is a skew or imbalance in the distribution of domestic gross revenue. This means that most of the movies have lower domestic gross revenue, while only a few movies have higher domestic gross revenue.\n",
    "***\n",
    "The bar chart shows a decreasing trend in the number of movies released over the years, with a peak in 2011. This trend can be useful for businesses to understand the competition and market trends.\n",
    "***\n",
    " The stacked bar chart shows that domestic revenue is consistently higher than foreign revenue. It also shows that there was a dip in revenue in 2012.\n",
    "***\n",
    "Histogram of runtime minutes: The histogram shows that the majority of movies have a runtime between 80 and 120 minutes, with a peak around 100 minutes.\n",
    "***\n",
    "Bar plot of genre distribution: The bar plot of genre distribution shows that the most popular genres of movies are Drama, Comedy, and Action. This can be useful for businesses to understand the preferences of their target audience.\n",
    "***\n",
    "The models fit the data well and provide useful insights for businesses. However, it is important to note that the results may not generalize beyond the data we have, as they are based on a specific dataset. Further analysis and testing may be required to validate the results.\n",
    "***\n",
    "Overall, the models can be useful for businesses to understand the trends and preferences of their target audience and make informed decisions regarding movie production and distribution."
   ]
  },
  {
   "attachments": {},
   "cell_type": "markdown",
   "metadata": {},
   "source": [
    "## Conclusions\n",
    "Overall, our analysis provides valuable insights into the movie industry. The business can use these insights to make data-driven decisions, such as identifying the most profitable genres and focusing on increasing foreign revenue.\n",
    "\n",
    "However, there are limitations to our analysis. For example, we did not consider the impact of external factors such as competition and economic conditions on the movie industry. Also, the dataset is limited to a specific time frame and region, which may not be representative of the entire industry.\n",
    "\n",
    "To improve this project in the future, we could consider including more data sources to increase the scope of our analysis. We could also use machine learning algorithms to predict the success of a movie based on its genre, runtime, and other factors."
   ]
  },
  {
   "attachments": {},
   "cell_type": "markdown",
   "metadata": {},
   "source": [
    "## Recommendations\n",
    "\n",
    "Based on the evaluation of the visualizations, here are some recommendations for the Microsoft Movie Analysis project:\n",
    "\n",
    "Revenue Analysis: Explore the distribution of domestic and foreign gross revenue for movies. Analyze the factors that contribute to higher revenue, such as genre, studio, release year, and average rating. Identify genres or market trends that are more likely to generate higher revenue and provide insights on potential investment opportunities.\n",
    "\n",
    "Genre Preferences: Investigate the popularity of different genres among the audience. Analyze the distribution of movies across genres and identify the most popular genres over time. This information can help Microsoft understand the preferences of their target audience and guide decision-making in movie production and acquisition.\n",
    "\n",
    "Runtime Analysis: Examine the distribution of movie runtimes and identify patterns or trends. Determine the average or preferred runtime among viewers and analyze whether there is any correlation between runtime and average ratings or revenue. This analysis can help in optimizing movie lengths and catering to audience preferences.\n",
    "\n",
    "Release Year Analysis: Study the trends in movie releases over the years. Identify periods of higher or lower movie production and analyze the factors that contribute to these trends. This analysis can assist in understanding the market competition and making strategic decisions on release timing.\n",
    "\n",
    "Average Rating Analysis: Investigate the relationship between average ratings and other factors like revenue, genre, and runtime. Analyze whether higher ratings lead to higher revenue or popularity. Identify genres or attributes that tend to receive higher ratings and leverage this information for content selection and production decisions.\n",
    "\n",
    "Competition Analysis: Explore the competitive landscape by analyzing the market share of different studios. Identify the major players in the industry and analyze their strategies for success. This analysis can provide insights into potential partnerships, acquisitions, or competitive strategies for Microsoft in the movie industry."
   ]
  },
  {
   "attachments": {},
   "cell_type": "markdown",
   "metadata": {},
   "source": []
  }
 ],
 "metadata": {
  "kernelspec": {
   "display_name": "Python 3",
   "language": "python",
   "name": "python3"
  },
  "language_info": {
   "codemirror_mode": {
    "name": "ipython",
    "version": 3
   },
   "file_extension": ".py",
   "mimetype": "text/x-python",
   "name": "python",
   "nbconvert_exporter": "python",
   "pygments_lexer": "ipython3",
   "version": "3.8.5"
  }
 },
 "nbformat": 4,
 "nbformat_minor": 4
}
